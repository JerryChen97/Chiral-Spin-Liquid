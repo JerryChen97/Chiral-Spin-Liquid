{
 "cells": [
  {
   "cell_type": "code",
   "execution_count": 9,
   "metadata": {},
   "outputs": [],
   "source": [
    "import pythtb as tb"
   ]
  },
  {
   "cell_type": "code",
   "execution_count": 10,
   "metadata": {},
   "outputs": [],
   "source": [
    "import numpy as np\n",
    "from numpy import linalg as la"
   ]
  },
  {
   "cell_type": "code",
   "execution_count": 72,
   "metadata": {},
   "outputs": [],
   "source": [
    "import tenpy.linalg.np_conserved as npc\n",
    "from tenpy.networks.site import SpinHalfFermionSite\n",
    "from tenpy.networks.mps import MPS\n",
    "from tenpy.networks.mpo import MPO\n",
    "from tenpy.linalg.np_conserved import Array\n",
    "from tenpy.algorithms.truncation import svd_theta"
   ]
  },
  {
   "cell_type": "markdown",
   "metadata": {},
   "source": [
    "# Parton Model Parameters"
   ]
  },
  {
   "cell_type": "markdown",
   "metadata": {},
   "source": [
    "First of all, we need to set up the tight-binding model correctly."
   ]
  },
  {
   "cell_type": "markdown",
   "metadata": {},
   "source": [
    "## Model/Hamiltonian Parameters"
   ]
  },
  {
   "cell_type": "code",
   "execution_count": 63,
   "metadata": {},
   "outputs": [],
   "source": [
    "# set and solve the parton band model\n",
    "t, td = 1., 0.5j\n",
    "Lx ,Ly =6 , 4\n",
    "L = Lx * Ly * 2\n",
    "# parameters for MPS\n",
    "chimax = 800\n",
    "cutoff = 1e-10"
   ]
  },
  {
   "cell_type": "markdown",
   "metadata": {},
   "source": [
    "## Geometry/Lattice Parameter"
   ]
  },
  {
   "cell_type": "code",
   "execution_count": 64,
   "metadata": {},
   "outputs": [],
   "source": [
    "# define lattice vectors\n",
    "lat=[[2.0,0.0],[0.0,1.0]]\n",
    "# define coordinates of orbitals\n",
    "orb=[[0.0, 0.0], [0.5, 0.0]]\n",
    "# make two dimensional tight-binding model\n",
    "parton=tb.tb_model(2,2,lat,orb)\n",
    "# set model parameters\n",
    "# add first neighbour hoppings\n",
    "parton.set_hop(t, 0, 1, [0, 0])\n",
    "parton.set_hop(t, 1, 0, [1, 0])\n",
    "parton.set_hop(t, 0, 0, [0, 1])\n",
    "parton.set_hop(-t, 1, 1, [0, 1])\n",
    "# add second neighbour hoppings\n",
    "parton.set_hop(td, 0, 1, [0, 1])\n",
    "parton.set_hop(td, 1, 0, [0, 1])\n",
    "parton.set_hop(-td, 1, 0, [1, 1])\n",
    "parton.set_hop(-td, 0, 1, [-1,1])"
   ]
  },
  {
   "cell_type": "markdown",
   "metadata": {},
   "source": [
    "# PieceCutting"
   ]
  },
  {
   "cell_type": "code",
   "execution_count": 65,
   "metadata": {},
   "outputs": [],
   "source": [
    "#We first work with a finite system\n",
    "# cutout finite model first along direction x without PBC\n",
    "tmp_parton=parton.cut_piece(Lx,0,glue_edgs=True)\n",
    "# cutout also along y direction with PBC\n",
    "fin_parton=tmp_parton.cut_piece(Ly,1,glue_edgs=True)\n",
    "# solve finite model\n",
    "(evals,evecs) =fin_parton.solve_all(eig_vectors=True)\n",
    "# computes hybrid Wannier centers (and functions) for the filled band. This procedure reduces truncation errors.\n",
    "# We work with Wannier basis to reduce long range entanglement and truncation error \n",
    "filled=evecs[0:Lx*Ly,:]\n",
    "pos_matx=fin_parton.position_matrix(evecs[:Lx*Ly],0)\n",
    "pos_maty=fin_parton.position_matrix(evecs[:Lx*Ly],1)\n",
    "pos_mat=Ly*pos_maty+pos_matx\n",
    "Wanniercenter, Wannier= LA.eig(pos_mat)\n",
    "parton_hwf=np.matmul(Wannier.transpose() ,filled)"
   ]
  },
  {
   "cell_type": "markdown",
   "metadata": {},
   "source": [
    "# MPS Representation"
   ]
  },
  {
   "cell_type": "markdown",
   "metadata": {},
   "source": [
    "Secondly, we need to use the given wavefunction to create the corresponding (i)MPS representation.\n",
    "\n",
    "Reference $0$: `arxiv 1910.11011`"
   ]
  },
  {
   "cell_type": "code",
   "execution_count": 66,
   "metadata": {},
   "outputs": [],
   "source": [
    "#1. Represent fermion vacuum as MPS: |0>=|0000...>\n",
    "site = SpinHalfFermionSite()\n",
    "psi = MPS.from_product_state([site]*L, ['empty']*L, 'finite')"
   ]
  },
  {
   "cell_type": "code",
   "execution_count": 67,
   "metadata": {},
   "outputs": [
    {
     "data": {
      "text/plain": [
       "{'down': 0, 'empty': 1, 'full': 2, 'up': 3}"
      ]
     },
     "execution_count": 67,
     "metadata": {},
     "output_type": "execute_result"
    }
   ],
   "source": [
    "# show the corresponding indices of all the labels\n",
    "site.state_labels"
   ]
  },
  {
   "cell_type": "code",
   "execution_count": 68,
   "metadata": {},
   "outputs": [
    {
     "name": "stdout",
     "output_type": "stream",
     "text": [
      "chinfo = ChargeInfo([1, 1], ['N', 'Sz'])\n",
      "p_leg =  +1\n",
      "0 [[ 1 -1] \n",
      "1  [ 0  0] \n",
      "2  [ 2  0] \n",
      "3  [ 1  1]]\n",
      "4          \n"
     ]
    }
   ],
   "source": [
    "# Aml is the corresponding matrix in reference 0\n",
    "Aml = parton_hwf\n",
    "\n",
    "chinfo, p_leg = site.leg.chinfo, site.leg\n",
    "print(f'chinfo = {chinfo}')\n",
    "print(f'p_leg = {p_leg}')"
   ]
  },
  {
   "cell_type": "code",
   "execution_count": 69,
   "metadata": {},
   "outputs": [],
   "source": [
    "def Ws(\n",
    "    Aml, \n",
    "    m, \n",
    "    L, # just automatically set it...\n",
    "    spin='up', \n",
    "    bc='infinite',\n",
    "):\n",
    "    \"\"\"\n",
    "        Given a `Aml` and the corresponding `m`, \n",
    "        create and return the wanted MPO Wm\n",
    "    \"\"\"\n",
    "    site = SpinHalfFermionSite()\n",
    "    if spin not in ['up', 'down']:\n",
    "        raise ValueError('Not such spin! UP or DOWN, choose one, thanks!')\n",
    "    assert bc in ['finite', 'infinite', 'segment']\n",
    "    \n",
    "    op = 'Cdu'\n",
    "    if spin=='down':\n",
    "        op = 'Cdd'\n",
    "    \"MPO for d_m^\\dag (spin up)\"\n",
    "    Cdu, Id = [site.get_op(op) for op in ('Cdu', 'Id')]\n",
    "    Wm = []\n",
    "    wL_leg = npc.LegCharge.from_qflat(chinfo,  [op.qtotal for op in [Cdu, Id]] , qconj=+1) # set charge on the leg\n",
    "    for l in range(L):\n",
    "        Wml_grid = [[Id, None],\n",
    "                    [Aml[m,l]*Cdu, Id]]\n",
    "        Wml = npc.grid_outer(Wml_grid, [wL_leg, wL_leg.conj()],grid_labels=['wL', 'wR']) # wL, wR, p, p*\n",
    "        Wm.append(Wml)\n",
    "#         print(Wml)\n",
    "    if bc=='finite': # Boundary case, see the Eq.2 of ref 0\n",
    "        Wm[0] = Wm[0][1:2,:] # second row\n",
    "        Wm[-1] = Wm[-1][:, 0:1] # first column\n",
    "    dm = MPO(sites = [site]*L, Ws = Wm, bc=bc)\n",
    "    return dm\n",
    "\n",
    "def generate_mps(Aml, spin='up', bc='infinite'):\n",
    "    \n",
    "    #1. Represent fermion vacuum as MPS: |0>=|0000...>\n",
    "    site = SpinHalfFermionSite()\n",
    "    psi = MPS.from_product_state([site]*L, ['empty']*L, bc)\n",
    "    chinfo, p_leg = site.leg.chinfo, site.leg\n",
    "    \n",
    "    #4. Apply MPO to MPS and then perform SVD compressions: d_m^dag |0>\n",
    "    for m in range(L//2): # v=1\n",
    "        dm = Ws(Aml, m, L, spin=spin, bc=bc)\n",
    "        print(dm)\n",
    "        dm.apply(\n",
    "            psi, \n",
    "            dict(\n",
    "                chi_max=chimax, \n",
    "                svd_min=cutoff,\n",
    "                compression_method='SVD',\n",
    "            ),\n",
    "        )\n",
    "    return psi\n",
    "#         for i in range(L):\n",
    "#             B = psi.get_B(i, form='B')\n",
    "#             Wml = Wm[i]\n",
    "#             B = npc.tensordot(Wml, B, ['p*', 'p']) # wL wR p vL vR \n",
    "#             B.itranspose(['vL', 'wL', 'p', 'vR', 'wR'])\n",
    "#             B = B.combine_legs([('vL', 'wL'), ('vR', 'wR')], qconj=[1, -1])\n",
    "#             B.iset_leg_labels(['vL', 'p', 'vR'])\n",
    "#             psi.set_B(i, B, form=None)\n",
    "#         psi.canonical_form() # to BBB...\n",
    "\n",
    "#         psi.compress_svd(\n",
    "#             trunc_par=dict(\n",
    "#                 chi_max=chimax,\n",
    "#                 svd_min=cutoff,\n",
    "#             )\n",
    "#         )\n",
    "\n",
    "#     # SVD compression\n",
    "#     for i in range(L-1):\n",
    "#         theta = psi.get_theta(i, n=2)\n",
    "#         theta = theta.combine_legs([('vL', 'p0'), ('p1', 'vR')], qconj=[1, -1]) # vL.p0 p1.vR\n",
    "#         A0, S1, B1, error, renorm = svd_theta(theta, {'svd_min': cutoff,\n",
    "#                                                       'chi_max': chimax})\n",
    "#         psi.set_B(i, A0.split_legs().replace_label('p0', 'p'), form='A')\n",
    "#         psi.set_SR(i, S1)\n",
    "#         psi.set_B(i+1, B1.split_legs().replace_label('p1', 'p'), form='B')\n",
    "        "
   ]
  },
  {
   "cell_type": "markdown",
   "metadata": {},
   "source": []
  },
  {
   "cell_type": "code",
   "execution_count": 71,
   "metadata": {
    "scrolled": true
   },
   "outputs": [
    {
     "name": "stdout",
     "output_type": "stream",
     "text": [
      "<tenpy.networks.mpo.MPO object at 0x7fa7684a1f50>\n",
      "Reading 'compression_method'='SVD' for config MPO_apply\n"
     ]
    },
    {
     "name": "stderr",
     "output_type": "stream",
     "text": [
      "/home/jerry/anaconda3/lib/python3.7/site-packages/tenpy/tools/params.py:225: UserWarning: unused options for config MPO_apply:\n",
      "['chi_max', 'svd_min']\n",
      "  warnings.warn(msg.format(keys=sorted(unused), name=self.name))\n"
     ]
    },
    {
     "name": "stdout",
     "output_type": "stream",
     "text": [
      "<tenpy.networks.mpo.MPO object at 0x7fa768455a50>\n",
      "Reading 'compression_method'='SVD' for config MPO_apply\n"
     ]
    },
    {
     "name": "stderr",
     "output_type": "stream",
     "text": [
      "/home/jerry/anaconda3/lib/python3.7/site-packages/tenpy/tools/params.py:225: UserWarning: unused options for config MPO_apply:\n",
      "['chi_max', 'svd_min']\n",
      "  warnings.warn(msg.format(keys=sorted(unused), name=self.name))\n"
     ]
    },
    {
     "name": "stdout",
     "output_type": "stream",
     "text": [
      "<tenpy.networks.mpo.MPO object at 0x7fa76846a690>\n",
      "Reading 'compression_method'='SVD' for config MPO_apply\n"
     ]
    },
    {
     "name": "stderr",
     "output_type": "stream",
     "text": [
      "/home/jerry/anaconda3/lib/python3.7/site-packages/tenpy/tools/params.py:225: UserWarning: unused options for config MPO_apply:\n",
      "['chi_max', 'svd_min']\n",
      "  warnings.warn(msg.format(keys=sorted(unused), name=self.name))\n"
     ]
    },
    {
     "name": "stdout",
     "output_type": "stream",
     "text": [
      "<tenpy.networks.mpo.MPO object at 0x7fa768455490>\n",
      "Reading 'compression_method'='SVD' for config MPO_apply\n"
     ]
    },
    {
     "name": "stderr",
     "output_type": "stream",
     "text": [
      "/home/jerry/anaconda3/lib/python3.7/site-packages/tenpy/tools/params.py:225: UserWarning: unused options for config MPO_apply:\n",
      "['chi_max', 'svd_min']\n",
      "  warnings.warn(msg.format(keys=sorted(unused), name=self.name))\n"
     ]
    },
    {
     "name": "stdout",
     "output_type": "stream",
     "text": [
      "<tenpy.networks.mpo.MPO object at 0x7fa7684a1c90>\n",
      "Reading 'compression_method'='SVD' for config MPO_apply\n"
     ]
    },
    {
     "name": "stderr",
     "output_type": "stream",
     "text": [
      "/home/jerry/anaconda3/lib/python3.7/site-packages/tenpy/tools/params.py:225: UserWarning: unused options for config MPO_apply:\n",
      "['chi_max', 'svd_min']\n",
      "  warnings.warn(msg.format(keys=sorted(unused), name=self.name))\n"
     ]
    },
    {
     "name": "stdout",
     "output_type": "stream",
     "text": [
      "<tenpy.networks.mpo.MPO object at 0x7fa7684a1590>\n",
      "Reading 'compression_method'='SVD' for config MPO_apply\n"
     ]
    },
    {
     "name": "stderr",
     "output_type": "stream",
     "text": [
      "/home/jerry/anaconda3/lib/python3.7/site-packages/tenpy/tools/params.py:225: UserWarning: unused options for config MPO_apply:\n",
      "['chi_max', 'svd_min']\n",
      "  warnings.warn(msg.format(keys=sorted(unused), name=self.name))\n"
     ]
    },
    {
     "name": "stdout",
     "output_type": "stream",
     "text": [
      "<tenpy.networks.mpo.MPO object at 0x7fa768e82b10>\n",
      "Reading 'compression_method'='SVD' for config MPO_apply\n"
     ]
    },
    {
     "name": "stderr",
     "output_type": "stream",
     "text": [
      "/home/jerry/anaconda3/lib/python3.7/site-packages/tenpy/tools/params.py:225: UserWarning: unused options for config MPO_apply:\n",
      "['chi_max', 'svd_min']\n",
      "  warnings.warn(msg.format(keys=sorted(unused), name=self.name))\n"
     ]
    },
    {
     "name": "stdout",
     "output_type": "stream",
     "text": [
      "<tenpy.networks.mpo.MPO object at 0x7fa768e36710>\n",
      "Reading 'compression_method'='SVD' for config MPO_apply\n"
     ]
    },
    {
     "name": "stderr",
     "output_type": "stream",
     "text": [
      "/home/jerry/anaconda3/lib/python3.7/site-packages/tenpy/tools/params.py:225: UserWarning: unused options for config MPO_apply:\n",
      "['chi_max', 'svd_min']\n",
      "  warnings.warn(msg.format(keys=sorted(unused), name=self.name))\n"
     ]
    },
    {
     "name": "stdout",
     "output_type": "stream",
     "text": [
      "<tenpy.networks.mpo.MPO object at 0x7fa7684bf590>\n",
      "Reading 'compression_method'='SVD' for config MPO_apply\n"
     ]
    },
    {
     "name": "stderr",
     "output_type": "stream",
     "text": [
      "/home/jerry/anaconda3/lib/python3.7/site-packages/tenpy/tools/params.py:225: UserWarning: unused options for config MPO_apply:\n",
      "['chi_max', 'svd_min']\n",
      "  warnings.warn(msg.format(keys=sorted(unused), name=self.name))\n"
     ]
    },
    {
     "name": "stdout",
     "output_type": "stream",
     "text": [
      "<tenpy.networks.mpo.MPO object at 0x7fa7684bf190>\n",
      "Reading 'compression_method'='SVD' for config MPO_apply\n"
     ]
    },
    {
     "name": "stderr",
     "output_type": "stream",
     "text": [
      "/home/jerry/anaconda3/lib/python3.7/site-packages/tenpy/tools/params.py:225: UserWarning: unused options for config MPO_apply:\n",
      "['chi_max', 'svd_min']\n",
      "  warnings.warn(msg.format(keys=sorted(unused), name=self.name))\n"
     ]
    },
    {
     "name": "stdout",
     "output_type": "stream",
     "text": [
      "<tenpy.networks.mpo.MPO object at 0x7fa7684c2cd0>\n",
      "Reading 'compression_method'='SVD' for config MPO_apply\n"
     ]
    },
    {
     "name": "stderr",
     "output_type": "stream",
     "text": [
      "/home/jerry/anaconda3/lib/python3.7/site-packages/tenpy/tools/params.py:225: UserWarning: unused options for config MPO_apply:\n",
      "['chi_max', 'svd_min']\n",
      "  warnings.warn(msg.format(keys=sorted(unused), name=self.name))\n"
     ]
    },
    {
     "name": "stdout",
     "output_type": "stream",
     "text": [
      "<tenpy.networks.mpo.MPO object at 0x7fa7684c2950>\n",
      "Reading 'compression_method'='SVD' for config MPO_apply\n"
     ]
    },
    {
     "name": "stderr",
     "output_type": "stream",
     "text": [
      "/home/jerry/anaconda3/lib/python3.7/site-packages/tenpy/tools/params.py:225: UserWarning: unused options for config MPO_apply:\n",
      "['chi_max', 'svd_min']\n",
      "  warnings.warn(msg.format(keys=sorted(unused), name=self.name))\n"
     ]
    },
    {
     "name": "stdout",
     "output_type": "stream",
     "text": [
      "<tenpy.networks.mpo.MPO object at 0x7fa7684c03d0>\n",
      "Reading 'compression_method'='SVD' for config MPO_apply\n"
     ]
    },
    {
     "name": "stderr",
     "output_type": "stream",
     "text": [
      "/home/jerry/anaconda3/lib/python3.7/site-packages/tenpy/tools/params.py:225: UserWarning: unused options for config MPO_apply:\n",
      "['chi_max', 'svd_min']\n",
      "  warnings.warn(msg.format(keys=sorted(unused), name=self.name))\n"
     ]
    },
    {
     "name": "stdout",
     "output_type": "stream",
     "text": [
      "<tenpy.networks.mpo.MPO object at 0x7fa768e824d0>\n",
      "Reading 'compression_method'='SVD' for config MPO_apply\n"
     ]
    },
    {
     "name": "stderr",
     "output_type": "stream",
     "text": [
      "/home/jerry/anaconda3/lib/python3.7/site-packages/tenpy/tools/params.py:225: UserWarning: unused options for config MPO_apply:\n",
      "['chi_max', 'svd_min']\n",
      "  warnings.warn(msg.format(keys=sorted(unused), name=self.name))\n"
     ]
    },
    {
     "name": "stdout",
     "output_type": "stream",
     "text": [
      "<tenpy.networks.mpo.MPO object at 0x7fa768ebd210>\n",
      "Reading 'compression_method'='SVD' for config MPO_apply\n"
     ]
    },
    {
     "name": "stderr",
     "output_type": "stream",
     "text": [
      "/home/jerry/anaconda3/lib/python3.7/site-packages/tenpy/tools/params.py:225: UserWarning: unused options for config MPO_apply:\n",
      "['chi_max', 'svd_min']\n",
      "  warnings.warn(msg.format(keys=sorted(unused), name=self.name))\n"
     ]
    },
    {
     "name": "stdout",
     "output_type": "stream",
     "text": [
      "<tenpy.networks.mpo.MPO object at 0x7fa768df4b90>\n",
      "Reading 'compression_method'='SVD' for config MPO_apply\n"
     ]
    },
    {
     "name": "stderr",
     "output_type": "stream",
     "text": [
      "/home/jerry/anaconda3/lib/python3.7/site-packages/tenpy/tools/params.py:225: UserWarning: unused options for config MPO_apply:\n",
      "['chi_max', 'svd_min']\n",
      "  warnings.warn(msg.format(keys=sorted(unused), name=self.name))\n"
     ]
    },
    {
     "name": "stdout",
     "output_type": "stream",
     "text": [
      "<tenpy.networks.mpo.MPO object at 0x7fa7684f19d0>\n",
      "Reading 'compression_method'='SVD' for config MPO_apply\n"
     ]
    },
    {
     "name": "stderr",
     "output_type": "stream",
     "text": [
      "/home/jerry/anaconda3/lib/python3.7/site-packages/tenpy/tools/params.py:225: UserWarning: unused options for config MPO_apply:\n",
      "['chi_max', 'svd_min']\n",
      "  warnings.warn(msg.format(keys=sorted(unused), name=self.name))\n"
     ]
    },
    {
     "name": "stdout",
     "output_type": "stream",
     "text": [
      "<tenpy.networks.mpo.MPO object at 0x7fa76846add0>\n",
      "Reading 'compression_method'='SVD' for config MPO_apply\n"
     ]
    },
    {
     "name": "stderr",
     "output_type": "stream",
     "text": [
      "/home/jerry/anaconda3/lib/python3.7/site-packages/tenpy/tools/params.py:225: UserWarning: unused options for config MPO_apply:\n",
      "['chi_max', 'svd_min']\n",
      "  warnings.warn(msg.format(keys=sorted(unused), name=self.name))\n"
     ]
    },
    {
     "name": "stdout",
     "output_type": "stream",
     "text": [
      "<tenpy.networks.mpo.MPO object at 0x7fa7684c0390>\n",
      "Reading 'compression_method'='SVD' for config MPO_apply\n"
     ]
    },
    {
     "name": "stderr",
     "output_type": "stream",
     "text": [
      "/home/jerry/anaconda3/lib/python3.7/site-packages/tenpy/tools/params.py:225: UserWarning: unused options for config MPO_apply:\n",
      "['chi_max', 'svd_min']\n",
      "  warnings.warn(msg.format(keys=sorted(unused), name=self.name))\n"
     ]
    },
    {
     "name": "stdout",
     "output_type": "stream",
     "text": [
      "<tenpy.networks.mpo.MPO object at 0x7fa768463dd0>\n",
      "Reading 'compression_method'='SVD' for config MPO_apply\n"
     ]
    },
    {
     "name": "stderr",
     "output_type": "stream",
     "text": [
      "/home/jerry/anaconda3/lib/python3.7/site-packages/tenpy/tools/params.py:225: UserWarning: unused options for config MPO_apply:\n",
      "['chi_max', 'svd_min']\n",
      "  warnings.warn(msg.format(keys=sorted(unused), name=self.name))\n"
     ]
    },
    {
     "name": "stdout",
     "output_type": "stream",
     "text": [
      "<tenpy.networks.mpo.MPO object at 0x7fa768e58910>\n",
      "Reading 'compression_method'='SVD' for config MPO_apply\n"
     ]
    },
    {
     "name": "stderr",
     "output_type": "stream",
     "text": [
      "/home/jerry/anaconda3/lib/python3.7/site-packages/tenpy/tools/params.py:225: UserWarning: unused options for config MPO_apply:\n",
      "['chi_max', 'svd_min']\n",
      "  warnings.warn(msg.format(keys=sorted(unused), name=self.name))\n"
     ]
    },
    {
     "name": "stdout",
     "output_type": "stream",
     "text": [
      "<tenpy.networks.mpo.MPO object at 0x7fa768471fd0>\n",
      "Reading 'compression_method'='SVD' for config MPO_apply\n"
     ]
    },
    {
     "name": "stderr",
     "output_type": "stream",
     "text": [
      "/home/jerry/anaconda3/lib/python3.7/site-packages/tenpy/tools/params.py:225: UserWarning: unused options for config MPO_apply:\n",
      "['chi_max', 'svd_min']\n",
      "  warnings.warn(msg.format(keys=sorted(unused), name=self.name))\n"
     ]
    },
    {
     "name": "stdout",
     "output_type": "stream",
     "text": [
      "<tenpy.networks.mpo.MPO object at 0x7fa7684a1990>\n",
      "Reading 'compression_method'='SVD' for config MPO_apply\n"
     ]
    },
    {
     "name": "stderr",
     "output_type": "stream",
     "text": [
      "/home/jerry/anaconda3/lib/python3.7/site-packages/tenpy/tools/params.py:225: UserWarning: unused options for config MPO_apply:\n",
      "['chi_max', 'svd_min']\n",
      "  warnings.warn(msg.format(keys=sorted(unused), name=self.name))\n"
     ]
    },
    {
     "name": "stdout",
     "output_type": "stream",
     "text": [
      "<tenpy.networks.mpo.MPO object at 0x7fa7684cd3d0>\n",
      "Reading 'compression_method'='SVD' for config MPO_apply\n"
     ]
    },
    {
     "name": "stderr",
     "output_type": "stream",
     "text": [
      "/home/jerry/anaconda3/lib/python3.7/site-packages/tenpy/tools/params.py:225: UserWarning: unused options for config MPO_apply:\n",
      "['chi_max', 'svd_min']\n",
      "  warnings.warn(msg.format(keys=sorted(unused), name=self.name))\n"
     ]
    },
    {
     "name": "stdout",
     "output_type": "stream",
     "text": [
      "<tenpy.networks.mpo.MPO object at 0x7fa7684b4a90>\n",
      "Reading 'compression_method'='SVD' for config MPO_apply\n"
     ]
    },
    {
     "name": "stderr",
     "output_type": "stream",
     "text": [
      "/home/jerry/anaconda3/lib/python3.7/site-packages/tenpy/tools/params.py:225: UserWarning: unused options for config MPO_apply:\n",
      "['chi_max', 'svd_min']\n",
      "  warnings.warn(msg.format(keys=sorted(unused), name=self.name))\n"
     ]
    },
    {
     "name": "stdout",
     "output_type": "stream",
     "text": [
      "<tenpy.networks.mpo.MPO object at 0x7fa7684194d0>\n",
      "Reading 'compression_method'='SVD' for config MPO_apply\n"
     ]
    },
    {
     "name": "stderr",
     "output_type": "stream",
     "text": [
      "/home/jerry/anaconda3/lib/python3.7/site-packages/tenpy/tools/params.py:225: UserWarning: unused options for config MPO_apply:\n",
      "['chi_max', 'svd_min']\n",
      "  warnings.warn(msg.format(keys=sorted(unused), name=self.name))\n"
     ]
    },
    {
     "name": "stdout",
     "output_type": "stream",
     "text": [
      "<tenpy.networks.mpo.MPO object at 0x7fa768424dd0>\n",
      "Reading 'compression_method'='SVD' for config MPO_apply\n"
     ]
    },
    {
     "name": "stderr",
     "output_type": "stream",
     "text": [
      "/home/jerry/anaconda3/lib/python3.7/site-packages/tenpy/tools/params.py:225: UserWarning: unused options for config MPO_apply:\n",
      "['chi_max', 'svd_min']\n",
      "  warnings.warn(msg.format(keys=sorted(unused), name=self.name))\n"
     ]
    },
    {
     "name": "stdout",
     "output_type": "stream",
     "text": [
      "<tenpy.networks.mpo.MPO object at 0x7fa768419ad0>\n",
      "Reading 'compression_method'='SVD' for config MPO_apply\n"
     ]
    },
    {
     "name": "stderr",
     "output_type": "stream",
     "text": [
      "/home/jerry/anaconda3/lib/python3.7/site-packages/tenpy/tools/params.py:225: UserWarning: unused options for config MPO_apply:\n",
      "['chi_max', 'svd_min']\n",
      "  warnings.warn(msg.format(keys=sorted(unused), name=self.name))\n"
     ]
    },
    {
     "name": "stdout",
     "output_type": "stream",
     "text": [
      "<tenpy.networks.mpo.MPO object at 0x7fa768490050>\n",
      "Reading 'compression_method'='SVD' for config MPO_apply\n"
     ]
    },
    {
     "name": "stderr",
     "output_type": "stream",
     "text": [
      "/home/jerry/anaconda3/lib/python3.7/site-packages/tenpy/tools/params.py:225: UserWarning: unused options for config MPO_apply:\n",
      "['chi_max', 'svd_min']\n",
      "  warnings.warn(msg.format(keys=sorted(unused), name=self.name))\n"
     ]
    },
    {
     "name": "stdout",
     "output_type": "stream",
     "text": [
      "<tenpy.networks.mpo.MPO object at 0x7fa7684b4490>\n",
      "Reading 'compression_method'='SVD' for config MPO_apply\n"
     ]
    },
    {
     "name": "stderr",
     "output_type": "stream",
     "text": [
      "/home/jerry/anaconda3/lib/python3.7/site-packages/tenpy/tools/params.py:225: UserWarning: unused options for config MPO_apply:\n",
      "['chi_max', 'svd_min']\n",
      "  warnings.warn(msg.format(keys=sorted(unused), name=self.name))\n"
     ]
    },
    {
     "name": "stdout",
     "output_type": "stream",
     "text": [
      "<tenpy.networks.mpo.MPO object at 0x7fa7684534d0>\n",
      "Reading 'compression_method'='SVD' for config MPO_apply\n"
     ]
    },
    {
     "name": "stderr",
     "output_type": "stream",
     "text": [
      "/home/jerry/anaconda3/lib/python3.7/site-packages/tenpy/tools/params.py:225: UserWarning: unused options for config MPO_apply:\n",
      "['chi_max', 'svd_min']\n",
      "  warnings.warn(msg.format(keys=sorted(unused), name=self.name))\n"
     ]
    },
    {
     "name": "stdout",
     "output_type": "stream",
     "text": [
      "<tenpy.networks.mpo.MPO object at 0x7fa7684bf690>\n",
      "Reading 'compression_method'='SVD' for config MPO_apply\n"
     ]
    },
    {
     "name": "stderr",
     "output_type": "stream",
     "text": [
      "/home/jerry/anaconda3/lib/python3.7/site-packages/tenpy/tools/params.py:225: UserWarning: unused options for config MPO_apply:\n",
      "['chi_max', 'svd_min']\n",
      "  warnings.warn(msg.format(keys=sorted(unused), name=self.name))\n"
     ]
    },
    {
     "name": "stdout",
     "output_type": "stream",
     "text": [
      "<tenpy.networks.mpo.MPO object at 0x7fa7684c4d90>\n",
      "Reading 'compression_method'='SVD' for config MPO_apply\n"
     ]
    },
    {
     "name": "stderr",
     "output_type": "stream",
     "text": [
      "/home/jerry/anaconda3/lib/python3.7/site-packages/tenpy/tools/params.py:225: UserWarning: unused options for config MPO_apply:\n",
      "['chi_max', 'svd_min']\n",
      "  warnings.warn(msg.format(keys=sorted(unused), name=self.name))\n"
     ]
    },
    {
     "name": "stdout",
     "output_type": "stream",
     "text": [
      "<tenpy.networks.mpo.MPO object at 0x7fa768424350>\n",
      "Reading 'compression_method'='SVD' for config MPO_apply\n"
     ]
    },
    {
     "name": "stderr",
     "output_type": "stream",
     "text": [
      "/home/jerry/anaconda3/lib/python3.7/site-packages/tenpy/tools/params.py:225: UserWarning: unused options for config MPO_apply:\n",
      "['chi_max', 'svd_min']\n",
      "  warnings.warn(msg.format(keys=sorted(unused), name=self.name))\n"
     ]
    },
    {
     "name": "stdout",
     "output_type": "stream",
     "text": [
      "<tenpy.networks.mpo.MPO object at 0x7fa7684684d0>\n",
      "Reading 'compression_method'='SVD' for config MPO_apply\n"
     ]
    },
    {
     "name": "stderr",
     "output_type": "stream",
     "text": [
      "/home/jerry/anaconda3/lib/python3.7/site-packages/tenpy/tools/params.py:225: UserWarning: unused options for config MPO_apply:\n",
      "['chi_max', 'svd_min']\n",
      "  warnings.warn(msg.format(keys=sorted(unused), name=self.name))\n"
     ]
    },
    {
     "name": "stdout",
     "output_type": "stream",
     "text": [
      "<tenpy.networks.mpo.MPO object at 0x7fa7684a1590>\n",
      "Reading 'compression_method'='SVD' for config MPO_apply\n"
     ]
    },
    {
     "name": "stderr",
     "output_type": "stream",
     "text": [
      "/home/jerry/anaconda3/lib/python3.7/site-packages/tenpy/tools/params.py:225: UserWarning: unused options for config MPO_apply:\n",
      "['chi_max', 'svd_min']\n",
      "  warnings.warn(msg.format(keys=sorted(unused), name=self.name))\n"
     ]
    },
    {
     "name": "stdout",
     "output_type": "stream",
     "text": [
      "<tenpy.networks.mpo.MPO object at 0x7fa76846ee90>\n",
      "Reading 'compression_method'='SVD' for config MPO_apply\n"
     ]
    },
    {
     "name": "stderr",
     "output_type": "stream",
     "text": [
      "/home/jerry/anaconda3/lib/python3.7/site-packages/tenpy/tools/params.py:225: UserWarning: unused options for config MPO_apply:\n",
      "['chi_max', 'svd_min']\n",
      "  warnings.warn(msg.format(keys=sorted(unused), name=self.name))\n"
     ]
    },
    {
     "name": "stdout",
     "output_type": "stream",
     "text": [
      "<tenpy.networks.mpo.MPO object at 0x7fa7684bfa50>\n",
      "Reading 'compression_method'='SVD' for config MPO_apply\n"
     ]
    },
    {
     "name": "stderr",
     "output_type": "stream",
     "text": [
      "/home/jerry/anaconda3/lib/python3.7/site-packages/tenpy/tools/params.py:225: UserWarning: unused options for config MPO_apply:\n",
      "['chi_max', 'svd_min']\n",
      "  warnings.warn(msg.format(keys=sorted(unused), name=self.name))\n"
     ]
    },
    {
     "name": "stdout",
     "output_type": "stream",
     "text": [
      "<tenpy.networks.mpo.MPO object at 0x7fa7684bf8d0>\n",
      "Reading 'compression_method'='SVD' for config MPO_apply\n"
     ]
    },
    {
     "name": "stderr",
     "output_type": "stream",
     "text": [
      "/home/jerry/anaconda3/lib/python3.7/site-packages/tenpy/tools/params.py:225: UserWarning: unused options for config MPO_apply:\n",
      "['chi_max', 'svd_min']\n",
      "  warnings.warn(msg.format(keys=sorted(unused), name=self.name))\n"
     ]
    },
    {
     "name": "stdout",
     "output_type": "stream",
     "text": [
      "<tenpy.networks.mpo.MPO object at 0x7fa768424bd0>\n",
      "Reading 'compression_method'='SVD' for config MPO_apply\n"
     ]
    },
    {
     "name": "stderr",
     "output_type": "stream",
     "text": [
      "/home/jerry/anaconda3/lib/python3.7/site-packages/tenpy/tools/params.py:225: UserWarning: unused options for config MPO_apply:\n",
      "['chi_max', 'svd_min']\n",
      "  warnings.warn(msg.format(keys=sorted(unused), name=self.name))\n"
     ]
    },
    {
     "name": "stdout",
     "output_type": "stream",
     "text": [
      "<tenpy.networks.mpo.MPO object at 0x7fa7684c4e10>\n",
      "Reading 'compression_method'='SVD' for config MPO_apply\n"
     ]
    },
    {
     "name": "stderr",
     "output_type": "stream",
     "text": [
      "/home/jerry/anaconda3/lib/python3.7/site-packages/tenpy/tools/params.py:225: UserWarning: unused options for config MPO_apply:\n",
      "['chi_max', 'svd_min']\n",
      "  warnings.warn(msg.format(keys=sorted(unused), name=self.name))\n"
     ]
    },
    {
     "name": "stdout",
     "output_type": "stream",
     "text": [
      "<tenpy.networks.mpo.MPO object at 0x7fa7684c4490>\n",
      "Reading 'compression_method'='SVD' for config MPO_apply\n"
     ]
    },
    {
     "name": "stderr",
     "output_type": "stream",
     "text": [
      "/home/jerry/anaconda3/lib/python3.7/site-packages/tenpy/tools/params.py:225: UserWarning: unused options for config MPO_apply:\n",
      "['chi_max', 'svd_min']\n",
      "  warnings.warn(msg.format(keys=sorted(unused), name=self.name))\n"
     ]
    },
    {
     "name": "stdout",
     "output_type": "stream",
     "text": [
      "<tenpy.networks.mpo.MPO object at 0x7fa7684ce390>\n",
      "Reading 'compression_method'='SVD' for config MPO_apply\n"
     ]
    },
    {
     "name": "stderr",
     "output_type": "stream",
     "text": [
      "/home/jerry/anaconda3/lib/python3.7/site-packages/tenpy/tools/params.py:225: UserWarning: unused options for config MPO_apply:\n",
      "['chi_max', 'svd_min']\n",
      "  warnings.warn(msg.format(keys=sorted(unused), name=self.name))\n"
     ]
    },
    {
     "name": "stdout",
     "output_type": "stream",
     "text": [
      "<tenpy.networks.mpo.MPO object at 0x7fa768468b90>\n",
      "Reading 'compression_method'='SVD' for config MPO_apply\n"
     ]
    },
    {
     "name": "stderr",
     "output_type": "stream",
     "text": [
      "/home/jerry/anaconda3/lib/python3.7/site-packages/tenpy/tools/params.py:225: UserWarning: unused options for config MPO_apply:\n",
      "['chi_max', 'svd_min']\n",
      "  warnings.warn(msg.format(keys=sorted(unused), name=self.name))\n"
     ]
    },
    {
     "name": "stdout",
     "output_type": "stream",
     "text": [
      "<tenpy.networks.mpo.MPO object at 0x7fa76846eb10>\n",
      "Reading 'compression_method'='SVD' for config MPO_apply\n"
     ]
    },
    {
     "name": "stderr",
     "output_type": "stream",
     "text": [
      "/home/jerry/anaconda3/lib/python3.7/site-packages/tenpy/tools/params.py:225: UserWarning: unused options for config MPO_apply:\n",
      "['chi_max', 'svd_min']\n",
      "  warnings.warn(msg.format(keys=sorted(unused), name=self.name))\n"
     ]
    },
    {
     "name": "stdout",
     "output_type": "stream",
     "text": [
      "<tenpy.networks.mpo.MPO object at 0x7fa7684a1610>\n",
      "Reading 'compression_method'='SVD' for config MPO_apply\n"
     ]
    },
    {
     "name": "stderr",
     "output_type": "stream",
     "text": [
      "/home/jerry/anaconda3/lib/python3.7/site-packages/tenpy/tools/params.py:225: UserWarning: unused options for config MPO_apply:\n",
      "['chi_max', 'svd_min']\n",
      "  warnings.warn(msg.format(keys=sorted(unused), name=self.name))\n"
     ]
    },
    {
     "name": "stdout",
     "output_type": "stream",
     "text": [
      "<tenpy.networks.mpo.MPO object at 0x7fa768424310>\n",
      "Reading 'compression_method'='SVD' for config MPO_apply\n"
     ]
    },
    {
     "name": "stderr",
     "output_type": "stream",
     "text": [
      "/home/jerry/anaconda3/lib/python3.7/site-packages/tenpy/tools/params.py:225: UserWarning: unused options for config MPO_apply:\n",
      "['chi_max', 'svd_min']\n",
      "  warnings.warn(msg.format(keys=sorted(unused), name=self.name))\n"
     ]
    },
    {
     "name": "stdout",
     "output_type": "stream",
     "text": [
      "<tenpy.networks.mpo.MPO object at 0x7fa768453750>\n",
      "Reading 'compression_method'='SVD' for config MPO_apply\n"
     ]
    },
    {
     "name": "stderr",
     "output_type": "stream",
     "text": [
      "/home/jerry/anaconda3/lib/python3.7/site-packages/tenpy/tools/params.py:225: UserWarning: unused options for config MPO_apply:\n",
      "['chi_max', 'svd_min']\n",
      "  warnings.warn(msg.format(keys=sorted(unused), name=self.name))\n"
     ]
    }
   ],
   "source": [
    "spin = 'up'\n",
    "psi_up = generate_mps(Aml, spin=spin, bc='infinite')\n",
    "\n",
    "spin = 'down'\n",
    "psi_down = generate_mps(Aml, spin=spin, bc='infinite')"
   ]
  },
  {
   "cell_type": "code",
   "execution_count": 76,
   "metadata": {},
   "outputs": [],
   "source": [
    "# Gutzwiller projection to physical Hilbert space\n",
    "def get_physical_psi(psi_input):\n",
    "    psi = psi_input.copy()\n",
    "    chinfo, p_leg = site.leg.chinfo, site.leg\n",
    "    GPOls = np.array([[1, 0, 0, 0],\n",
    "                      [0, 0, 0, 0],\n",
    "                      [0, 0, 0, 0],\n",
    "                      [0, 0, 0, 1]])\n",
    "    GPOl=Array.from_ndarray(GPOls, [p_leg, p_leg.conj()]) # p, p*\n",
    "    GPOl.iset_leg_labels(['p', 'p*'])\n",
    "    for i in range(psi.L):\n",
    "        psi.apply_local_op(i, GPOl)\n",
    "    psi.canonical_form()\n",
    "    return psi"
   ]
  },
  {
   "cell_type": "code",
   "execution_count": null,
   "metadata": {},
   "outputs": [
    {
     "name": "stderr",
     "output_type": "stream",
     "text": [
      "/home/jerry/anaconda3/lib/python3.7/site-packages/tenpy/networks/mps.py:2433: UserWarning: canonical_form_infinite: project to smaller bond dimension\n",
      "  self.canonical_form_infinite(renormalize)\n"
     ]
    }
   ],
   "source": [
    "psi_up_physical = get_physical_psi(psi_up)"
   ]
  },
  {
   "cell_type": "code",
   "execution_count": null,
   "metadata": {},
   "outputs": [],
   "source": [
    "psi_up_physical.entanglement_spect"
   ]
  },
  {
   "cell_type": "markdown",
   "metadata": {},
   "source": [
    "TODO:\n",
    " - Fix the computing for `bc='finite'`"
   ]
  },
  {
   "cell_type": "code",
   "execution_count": null,
   "metadata": {},
   "outputs": [],
   "source": []
  }
 ],
 "metadata": {
  "kernelspec": {
   "display_name": "Python 3",
   "language": "python",
   "name": "python3"
  },
  "language_info": {
   "codemirror_mode": {
    "name": "ipython",
    "version": 3
   },
   "file_extension": ".py",
   "mimetype": "text/x-python",
   "name": "python",
   "nbconvert_exporter": "python",
   "pygments_lexer": "ipython3",
   "version": "3.7.7"
  }
 },
 "nbformat": 4,
 "nbformat_minor": 4
}
